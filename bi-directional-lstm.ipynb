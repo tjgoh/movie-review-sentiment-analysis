{
  "nbformat": 4,
  "nbformat_minor": 2,
  "metadata": {
    "colab": {
      "name": "Bi-Directional LSTM_Final",
      "provenance": [],
      "collapsed_sections": []
    },
    "kernelspec": {
      "name": "python3",
      "display_name": "Python 3"
    },
    "language_info": {
      "name": "python"
    },
    "accelerator": "GPU"
  },
  "cells": [
    {
      "cell_type": "code",
      "execution_count": 1,
      "source": [
        "import numpy as np \n",
        "import pandas as pd\n",
        "import torch\n",
        "import torch.nn as nn\n",
        "from importlib import  reload\n",
        "import sys\n",
        "from imp import  reload\n",
        "import warnings  \n",
        "import nltk\n",
        "from nltk.tokenize import word_tokenize\n",
        "import re\n",
        "import tensorflow as tf\n",
        "import tensorflow.keras as keras\n",
        "from tensorflow.keras.preprocessing.text import Tokenizer\n",
        "from tensorflow.keras.preprocessing.sequence import pad_sequences\n",
        "from keras.preprocessing.text import text_to_word_sequence\n",
        "from tensorflow.keras.layers import Concatenate, Dense, Input, LSTM, Embedding, Dropout, Activation, GRU, Flatten\n",
        "from tensorflow.keras.layers import Bidirectional, GlobalMaxPool1D\n",
        "from tensorflow.keras.models import Model, Sequential\n",
        "from tensorflow.keras.layers import Convolution1D\n",
        "from tensorflow.keras import initializers, regularizers, constraints, optimizers, layers\n",
        "\n",
        "warnings.filterwarnings('ignore')\n",
        "if sys.version[0] == '2':\n",
        "  reload(sys)\n",
        "  sys.setdefaultencoding(\"utf-8\")\n",
        "device_name = tf.test.gpu_device_name()\n",
        "if device_name != '/device:GPU:0':\n",
        "  raise SystemError('GPU device not found')\n",
        "print('Found GPU at: {}'.format(device_name))\n",
        "\n"
      ],
      "outputs": [
        {
          "output_type": "stream",
          "name": "stdout",
          "text": [
            "Found GPU at: /device:GPU:0\n"
          ]
        }
      ],
      "metadata": {
        "id": "ECL4opw9BD23",
        "colab": {
          "base_uri": "https://localhost:8080/"
        },
        "outputId": "e023a02f-058d-47ba-b76e-fe4de64915be"
      }
    },
    {
      "cell_type": "code",
      "execution_count": 2,
      "source": [
        "# specify GPU device\n",
        "device = torch.device(\"cuda\" if torch.cuda.is_available() else \"cpu\")\n",
        "n_gpu = torch.cuda.device_count()\n",
        "torch.cuda.get_device_name(0)"
      ],
      "outputs": [
        {
          "output_type": "execute_result",
          "data": {
            "application/vnd.google.colaboratory.intrinsic+json": {
              "type": "string"
            },
            "text/plain": [
              "'Tesla K80'"
            ]
          },
          "metadata": {
            "tags": []
          },
          "execution_count": 2
        }
      ],
      "metadata": {
        "colab": {
          "base_uri": "https://localhost:8080/",
          "height": 35
        },
        "id": "Ca6NtWV2BrLa",
        "outputId": "2c6732a3-9510-458a-e15b-9e6b1529e7b2"
      }
    },
    {
      "cell_type": "code",
      "execution_count": 3,
      "source": [
        "#importing data\n",
        "tsv_read = pd.read_csv(\"train.tsv\", sep='\\t')\n",
        "df = tsv_read\n"
      ],
      "outputs": [],
      "metadata": {
        "id": "GdidjixwBQw2"
      }
    },
    {
      "cell_type": "code",
      "execution_count": 4,
      "source": [
        "#preprocessing\n",
        "\n",
        "df= df.reset_index(drop=True)\n",
        "symbols = re.compile('[/(){}\\[\\]\\|@,;]')\n",
        "symbols_1 = re.compile('[^0-9a-z #+_]')\n",
        "\n",
        "def clean_text(text):\n",
        "    text = text.lower() #lowercase\n",
        "    text = symbols.sub(' ', text) # replacing symbols by space in text\n",
        "    text = symbols_1.sub('', text) # removing symbols_1 \n",
        "    return text\n",
        "df['Phrase'] = df['Phrase'].apply(clean_text)\n",
        "\n"
      ],
      "outputs": [],
      "metadata": {
        "id": "EGFhgMM2BWwi"
      }
    },
    {
      "cell_type": "code",
      "execution_count": 5,
      "source": [
        "# Tokenizing the data and converting to numbers\n",
        "tokenizer = Tokenizer()\n",
        "tokenizer.fit_on_texts(df['Phrase'].values)\n",
        "inputs = tokenizer.texts_to_sequences(df['Phrase'].values)\n"
      ],
      "outputs": [],
      "metadata": {
        "id": "ZNkJlkPlBW34"
      }
    },
    {
      "cell_type": "code",
      "execution_count": 6,
      "source": [
        "MAX_LENGTH = 35\n",
        "inputs = pad_sequences(inputs, maxlen=MAX_LENGTH)\n",
        "word_index = tokenizer.word_index\n",
        "vocab_size = len(tokenizer.word_index) + 1\n",
        "print(\"Max Length is\", MAX_LENGTH)"
      ],
      "outputs": [
        {
          "output_type": "stream",
          "name": "stdout",
          "text": [
            "Max Length is 35\n"
          ]
        }
      ],
      "metadata": {
        "colab": {
          "base_uri": "https://localhost:8080/"
        },
        "id": "zY5rh6EyO43-",
        "outputId": "aed5e00f-752e-4238-ca16-7164f3360e54"
      }
    },
    {
      "cell_type": "code",
      "execution_count": 7,
      "source": [
        "# Use train_test_split to split our data into train and validation sets for\n",
        "# training (80-20)\n",
        "from sklearn.model_selection import train_test_split\n",
        "train_inputs, test_inputs, train_labels, test_labels = train_test_split(inputs, df['Sentiment'], \n",
        "                                                          random_state=1, test_size=0.2)\n",
        "\n"
      ],
      "outputs": [],
      "metadata": {
        "id": "cnMqCAazBtOl"
      }
    },
    {
      "cell_type": "code",
      "execution_count": 8,
      "source": [
        "train_inputs = torch.tensor(train_inputs, dtype=torch.long)\n",
        "test_inputs = torch.tensor(test_inputs,  dtype=torch.long)\n",
        "train_labels = torch.tensor(train_labels, dtype=torch.long)\n",
        "#test_labels = torch.tensor(test_labels,  dtype=torch.long)"
      ],
      "outputs": [],
      "metadata": {
        "id": "lz1VuAR9BtRK"
      }
    },
    {
      "cell_type": "code",
      "execution_count": 9,
      "source": [
        "# Pre-process the labels to one-hot encodings\n",
        "rows=len(train_labels)\n",
        "new_train_labels=np.zeros((rows,5))\n",
        "for i in range(rows):\n",
        "  new_train_labels[i, train_labels[i]] = 1\n",
        "new_train_labels=torch.tensor(new_train_labels)"
      ],
      "outputs": [],
      "metadata": {
        "id": "IBInIY53b_oh"
      }
    },
    {
      "cell_type": "code",
      "execution_count": 10,
      "source": [
        "#Attention Layer\n",
        "class Attention(tf.keras.Model):\n",
        "   def __init__(self, units):\n",
        "        super(Attention, self).__init__()\n",
        "        self.weights1 = tf.keras.layers.Dense(units)\n",
        "        self.weights2 = tf.keras.layers.Dense(units)\n",
        "        self.total = tf.keras.layers.Dense(1)\n",
        "\n",
        "   def call(self, words, hidden):\n",
        "        hidden_expanded = tf.expand_dims(hidden, 1)\n",
        "        word_score = tf.nn.tanh(\n",
        "            self.weights1(words) + self.weights2(hidden_expanded))\n",
        "        attention_weights = tf.nn.softmax(self.total(word_score), axis=1)\n",
        "        contribution = attention_weights * words\n",
        "        contribution = tf.reduce_sum(contribution, axis=1)\n",
        "        return contribution, attention_weights\n"
      ],
      "outputs": [],
      "metadata": {
        "id": "ZKo6AZbuBtTk"
      }
    },
    {
      "cell_type": "code",
      "execution_count": 11,
      "source": [
        "#Embedding Layer\n",
        "input_seq = Input(shape=(MAX_LENGTH,), dtype=\"int32\")\n",
        "seq_embed = Embedding(vocab_size, MAX_LENGTH, input_length=MAX_LENGTH, embeddings_regularizer=keras.regularizers.l2(.001))(input_seq)"
      ],
      "outputs": [],
      "metadata": {
        "id": "q0JIV3tIFSKb"
      }
    },
    {
      "cell_type": "code",
      "execution_count": 12,
      "source": [
        "#Running bidirectional LSTM \n",
        "cell_size = 100\n",
        "lstm = Bidirectional(LSTM(cell_size, return_sequences = True), name=\"LSTM_L1\")(seq_embed)\n",
        "\n",
        "(lstm, fwd_hidden, fwd_cell, bwd_hidden, bwd_cell) = Bidirectional(LSTM(cell_size, return_sequences=True, return_state=True), name=\"LSTM_L2\")(lstm)"
      ],
      "outputs": [],
      "metadata": {
        "id": "7p1yAdUOFSVz"
      }
    },
    {
      "cell_type": "code",
      "execution_count": 13,
      "source": [
        "#Defining the model \n",
        "hidden_state = Concatenate()([fwd_hidden, bwd_hidden])\n",
        "cell_state = Concatenate()([fwd_cell, bwd_cell])\n",
        "contribution, attention_weights = Attention(10)(lstm, hidden_state)\n",
        "dense1 = Dense(20, activation=\"relu\")(contribution)\n",
        "dropout = Dropout(0.05)(dense1)\n",
        "output = Dense(5, activation=\"softmax\")(dense1)\n",
        "  \n",
        "model = keras.Model(inputs=input_seq, outputs=output)\n"
      ],
      "outputs": [],
      "metadata": {
        "id": "Xoq47KHxFScm"
      }
    },
    {
      "cell_type": "code",
      "execution_count": 14,
      "source": [
        "METRICS = [keras.metrics.CategoricalAccuracy(name='accuracy'),\n",
        "    keras.metrics.Precision(name='precision'),\n",
        "    keras.metrics.Recall(name='recall'),]\n",
        "\n",
        "model.compile(loss='categorical_crossentropy',  \n",
        "              optimizer='adam',\n",
        "              metrics=METRICS)"
      ],
      "outputs": [],
      "metadata": {
        "id": "8AY1FOQlO7UG"
      }
    },
    {
      "cell_type": "code",
      "execution_count": 15,
      "source": [
        "BATCH_SIZE = 64\n",
        "EPOCHS = 5\n",
        "train_inputs=np.array(train_inputs)\n",
        "new_train_labels=np.array(new_train_labels)\n",
        "history = model.fit(train_inputs,new_train_labels,\n",
        "                    batch_size=BATCH_SIZE,\n",
        "                    epochs=EPOCHS,\n",
        "                    validation_split=0.2)"
      ],
      "outputs": [
        {
          "output_type": "stream",
          "name": "stdout",
          "text": [
            "Epoch 1/5\n",
            "1561/1561 [==============================] - 114s 65ms/step - loss: 1.1606 - accuracy: 0.5630 - precision: 0.6787 - recall: 0.4096 - val_loss: 1.0576 - val_accuracy: 0.6091 - val_precision: 0.6732 - val_recall: 0.4984\n",
            "Epoch 2/5\n",
            "1561/1561 [==============================] - 99s 63ms/step - loss: 1.0013 - accuracy: 0.6347 - precision: 0.6933 - recall: 0.5259 - val_loss: 0.9792 - val_accuracy: 0.6394 - val_precision: 0.6900 - val_recall: 0.5405\n",
            "Epoch 3/5\n",
            "1561/1561 [==============================] - 99s 63ms/step - loss: 0.9366 - accuracy: 0.6547 - precision: 0.7014 - recall: 0.5725 - val_loss: 0.9517 - val_accuracy: 0.6476 - val_precision: 0.6920 - val_recall: 0.5621\n",
            "Epoch 4/5\n",
            "1561/1561 [==============================] - 99s 64ms/step - loss: 0.8982 - accuracy: 0.6684 - precision: 0.7075 - recall: 0.5966 - val_loss: 0.9349 - val_accuracy: 0.6523 - val_precision: 0.6874 - val_recall: 0.5900\n",
            "Epoch 5/5\n",
            "1561/1561 [==============================] - 101s 65ms/step - loss: 0.8715 - accuracy: 0.6782 - precision: 0.7145 - recall: 0.6143 - val_loss: 0.9261 - val_accuracy: 0.6559 - val_precision: 0.6972 - val_recall: 0.5798\n"
          ]
        }
      ],
      "metadata": {
        "colab": {
          "base_uri": "https://localhost:8080/"
        },
        "id": "CZU-SRZBO7XB",
        "outputId": "00fc55f2-d45c-4120-c239-d298b809ec8e"
      }
    },
    {
      "cell_type": "code",
      "execution_count": 16,
      "source": [
        "test_inputs=np.array(test_inputs)\n",
        "prediction = model.predict(test_inputs)\n",
        "prediction1 = np.argmax(prediction, axis = 1)\n",
        "\n",
        "from sklearn.metrics import confusion_matrix\n",
        "import matplotlib.pyplot as plt\n",
        "from sklearn.metrics import plot_confusion_matrix\n",
        "import seaborn as sn\n",
        "import pandas as pd\n",
        "\n",
        "conf=confusion_matrix(test_labels, prediction1)\n",
        "conf_normalized = confusion_matrix(test_labels, prediction1, normalize='true')\n",
        "\n",
        "df_cm = pd.DataFrame(conf_normalized, range(5), range(5))\n",
        "sn.set(font_scale=1.4)\n",
        "sn.heatmap(df_cm, annot=True, annot_kws={\"size\": 16}) \n",
        "plt.show()\n"
      ],
      "outputs": [
        {
          "output_type": "display_data",
          "data": {
            "image/png": "[encoded data removed]",
            "text/plain": [
              "<Figure size 432x288 with 2 Axes>"
            ]
          },
          "metadata": {
            "tags": []
          }
        }
      ],
      "metadata": {
        "id": "M2qtZNPVbPl2",
        "colab": {
          "base_uri": "https://localhost:8080/",
          "height": 273
        },
        "outputId": "82319d58-8125-4d1a-a3da-080b31c21ded"
      }
    },
    {
      "cell_type": "code",
      "execution_count": 17,
      "source": [
        "# Accuracy, recall and precision\n",
        "\n",
        "accuracy=sum(np.diag(conf))/np.sum(conf)\n",
        "print(\"Accuracy is\", accuracy*100, \"%\")\n",
        "\n",
        "recall = np.zeros(5)\n",
        "precision = np.zeros(5)\n",
        "for i in range(5):\n",
        "  recall[i] = round((conf[i, i] / np.sum(conf[:, i])) * 100, 2)\n",
        "  precision[i] = round((conf[i, i] / np.sum(conf[i, :])) * 100, 2)\n",
        "\n",
        "recall = pd.DataFrame(recall)\n",
        "precision = pd.DataFrame(precision)\n",
        "eval = pd.concat([recall, precision], axis = 1)\n",
        "eval.columns = ['Recall (%)', 'Precision (%)']\n",
        "print(eval)"
      ],
      "outputs": [
        {
          "output_type": "stream",
          "name": "stdout",
          "text": [
            "Accuracy is 65.92015891323851 %\n",
            "   Recall (%)  Precision (%)\n",
            "0       52.73          36.72\n",
            "1       51.24          59.02\n",
            "2       75.57          78.69\n",
            "3       58.89          54.24\n",
            "4       56.20          38.80\n"
          ]
        }
      ],
      "metadata": {
        "id": "wDp2FKk6IQZ1",
        "colab": {
          "base_uri": "https://localhost:8080/"
        },
        "outputId": "abb645b4-8c9c-4890-8688-4e9073a3591a"
      }
    }
  ]
}