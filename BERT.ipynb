{
  "nbformat": 4,
  "nbformat_minor": 2,
  "metadata": {
    "colab": {
      "name": "BERT.ipynb",
      "provenance": [],
      "collapsed_sections": []
    },
    "kernelspec": {
      "display_name": "Python 3",
      "name": "python3"
    },
    "language_info": {
      "name": "python"
    },
    "accelerator": "GPU"
  },
  "cells": [
    {
      "cell_type": "markdown",
      "source": [],
      "metadata": {
        "id": "mirEQ7HH_gK8"
      }
    },
    {
      "cell_type": "code",
      "execution_count": null,
      "source": [
        "import pandas as pd \n",
        "#add GPU command\n",
        "import tensorflow as tf\n",
        "import torch\n",
        "!pip install transformers"
      ],
      "outputs": [
        {
          "output_type": "stream",
          "name": "stdout",
          "text": [
            "Requirement already satisfied: transformers in /usr/local/lib/python3.7/dist-packages (4.6.1)\n",
            "Requirement already satisfied: numpy>=1.17 in /usr/local/lib/python3.7/dist-packages (from transformers) (1.19.5)\n",
            "Requirement already satisfied: tokenizers<0.11,>=0.10.1 in /usr/local/lib/python3.7/dist-packages (from transformers) (0.10.3)\n",
            "Requirement already satisfied: tqdm>=4.27 in /usr/local/lib/python3.7/dist-packages (from transformers) (4.41.1)\n",
            "Requirement already satisfied: regex!=2019.12.17 in /usr/local/lib/python3.7/dist-packages (from transformers) (2019.12.20)\n",
            "Requirement already satisfied: sacremoses in /usr/local/lib/python3.7/dist-packages (from transformers) (0.0.45)\n",
            "Requirement already satisfied: huggingface-hub==0.0.8 in /usr/local/lib/python3.7/dist-packages (from transformers) (0.0.8)\n",
            "Requirement already satisfied: requests in /usr/local/lib/python3.7/dist-packages (from transformers) (2.23.0)\n",
            "Requirement already satisfied: importlib-metadata; python_version < \"3.8\" in /usr/local/lib/python3.7/dist-packages (from transformers) (4.0.1)\n",
            "Requirement already satisfied: filelock in /usr/local/lib/python3.7/dist-packages (from transformers) (3.0.12)\n",
            "Requirement already satisfied: packaging in /usr/local/lib/python3.7/dist-packages (from transformers) (20.9)\n",
            "Requirement already satisfied: joblib in /usr/local/lib/python3.7/dist-packages (from sacremoses->transformers) (1.0.1)\n",
            "Requirement already satisfied: click in /usr/local/lib/python3.7/dist-packages (from sacremoses->transformers) (7.1.2)\n",
            "Requirement already satisfied: six in /usr/local/lib/python3.7/dist-packages (from sacremoses->transformers) (1.15.0)\n",
            "Requirement already satisfied: idna<3,>=2.5 in /usr/local/lib/python3.7/dist-packages (from requests->transformers) (2.10)\n",
            "Requirement already satisfied: urllib3!=1.25.0,!=1.25.1,<1.26,>=1.21.1 in /usr/local/lib/python3.7/dist-packages (from requests->transformers) (1.24.3)\n",
            "Requirement already satisfied: certifi>=2017.4.17 in /usr/local/lib/python3.7/dist-packages (from requests->transformers) (2020.12.5)\n",
            "Requirement already satisfied: chardet<4,>=3.0.2 in /usr/local/lib/python3.7/dist-packages (from requests->transformers) (3.0.4)\n",
            "Requirement already satisfied: typing-extensions>=3.6.4; python_version < \"3.8\" in /usr/local/lib/python3.7/dist-packages (from importlib-metadata; python_version < \"3.8\"->transformers) (3.7.4.3)\n",
            "Requirement already satisfied: zipp>=0.5 in /usr/local/lib/python3.7/dist-packages (from importlib-metadata; python_version < \"3.8\"->transformers) (3.4.1)\n",
            "Requirement already satisfied: pyparsing>=2.0.2 in /usr/local/lib/python3.7/dist-packages (from packaging->transformers) (2.4.7)\n"
          ]
        }
      ],
      "metadata": {
        "colab": {
          "base_uri": "https://localhost:8080/"
        },
        "id": "GRhT-Dffj8Bf",
        "outputId": "c7a5b8e9-e327-42ee-b85a-70e29699a0d7"
      }
    },
    {
      "cell_type": "code",
      "execution_count": null,
      "source": [
        "import tensorflow as tf\n",
        "\n",
        "device_name = tf.test.gpu_device_name()\n",
        "if device_name != '/device:GPU:0':\n",
        "  raise SystemError('GPU device not found')\n",
        "print('Found GPU at: {}'.format(device_name))"
      ],
      "outputs": [
        {
          "output_type": "stream",
          "name": "stdout",
          "text": [
            "Found GPU at: /device:GPU:0\n"
          ]
        }
      ],
      "metadata": {
        "colab": {
          "base_uri": "https://localhost:8080/"
        },
        "id": "mFCcDG1sfOEc",
        "outputId": "accdd65f-c68c-40fe-fd0d-48b3cee3396f"
      }
    },
    {
      "cell_type": "code",
      "execution_count": null,
      "source": [
        "# specify GPU device\n",
        "device = torch.device(\"cuda\" if torch.cuda.is_available() else \"cpu\")\n",
        "n_gpu = torch.cuda.device_count()\n",
        "torch.cuda.get_device_name(0)"
      ],
      "outputs": [
        {
          "output_type": "execute_result",
          "data": {
            "application/vnd.google.colaboratory.intrinsic+json": {
              "type": "string"
            },
            "text/plain": [
              "'Tesla T4'"
            ]
          },
          "metadata": {
            "tags": []
          },
          "execution_count": 33
        }
      ],
      "metadata": {
        "colab": {
          "base_uri": "https://localhost:8080/",
          "height": 35
        },
        "id": "TLoYQBNmfrEs",
        "outputId": "c7011bb0-61c7-4834-f8fb-76ef3d2a942e"
      }
    },
    {
      "cell_type": "code",
      "execution_count": null,
      "source": [
        "#importing the data\n",
        "tsv_read = pd.read_csv(\"train.tsv\", sep='\\t')\n",
        "df = tsv_read\n",
        "\n",
        "#splitting train and test data \n",
        "n = len(df)\n",
        "n_train = int(n*0.8)\n",
        "df_train = df[0:n_train]\n",
        "\n",
        "print('Number of training sentences: {:,}\\n'.format(df_train.shape[0]))"
      ],
      "outputs": [
        {
          "output_type": "stream",
          "name": "stdout",
          "text": [
            "Number of training sentences: 124,848\n",
            "\n"
          ]
        }
      ],
      "metadata": {
        "colab": {
          "base_uri": "https://localhost:8080/"
        },
        "id": "7KF32TfMqdlA",
        "outputId": "8d4956a4-9afb-40db-e77e-89215d1d40e9"
      }
    },
    {
      "cell_type": "code",
      "execution_count": null,
      "source": [
        "#balancing the data by reducing sentences belonging to \"neutral\" class\n",
        "\n",
        "\n",
        "#np.random.seed(10)\n",
        "\n",
        "#remove_n = 40000\n",
        "#drop_indices = np.random.choice(df[df['Sentiment']==2].index, remove_n, replace=False)\n",
        "#df_subset = df.drop(drop_indices)\n",
        "#df = df_subset"
      ],
      "outputs": [],
      "metadata": {
        "id": "1iaDIc-8XF0H"
      }
    },
    {
      "cell_type": "code",
      "execution_count": null,
      "source": [
        "phrases = df_train.Phrase.values\n",
        "labels = df_train.Sentiment.values\n",
        "print(phrases)"
      ],
      "outputs": [
        {
          "output_type": "stream",
          "name": "stdout",
          "text": [
            "['A series of escapades demonstrating the adage that what is good for the goose is also good for the gander , some of which occasionally amuses but none of which amounts to much of a story .'\n",
            " 'A series of escapades demonstrating the adage that what is good for the goose'\n",
            " 'A series' ...\n",
            " \"proves once again that he 's the best brush in the business\"\n",
            " \"once again that he 's the best brush in the business\"\n",
            " \"that he 's the best brush in the business\"]\n"
          ]
        }
      ],
      "metadata": {
        "id": "e_Kyslk_raHA",
        "colab": {
          "base_uri": "https://localhost:8080/"
        },
        "outputId": "bfb50947-1eed-4649-e583-f318319495ae"
      }
    },
    {
      "cell_type": "code",
      "execution_count": null,
      "source": [
        "#importing BERT Tokenizer\n",
        "from transformers import BertTokenizer\n",
        "from transformers import XLNetForSequenceClassification\n",
        "\n",
        "#bert tokenzier\n",
        "tokenizer = BertTokenizer.from_pretrained('bert-base-uncased', do_lower_case=True)"
      ],
      "outputs": [],
      "metadata": {
        "id": "a5XvYLdyrkz4"
      }
    },
    {
      "cell_type": "code",
      "execution_count": null,
      "source": [
        "#tokenizing sentences and map the tokens to IDs.\n",
        "input_ids = []\n",
        "for phrase in phrases:\n",
        "    encoded_phrase = tokenizer.encode(\n",
        "                        phrase,         \n",
        "                        add_special_tokens = True, # adding CLS and SEP\n",
        "                   )\n",
        "    \n",
        "    #appending the encoded phrases to input_ids list\n",
        "    input_ids.append(encoded_phrase)"
      ],
      "outputs": [],
      "metadata": {
        "id": "22UngXHnr6eI"
      }
    },
    {
      "cell_type": "code",
      "execution_count": null,
      "source": [
        "#finding maximum sentence length\n",
        "max_train = max([len(phrase) for phrase in input_ids])\n",
        "print(max_train)"
      ],
      "outputs": [],
      "metadata": {
        "id": "4buajrrbDhc4"
      }
    },
    {
      "cell_type": "code",
      "execution_count": null,
      "source": [
        "#padding the sequences so they have the same length\n",
        "max_length = 35\n",
        "\n",
        "\n",
        "#importing pad_squences\n",
        "from keras.preprocessing.sequence import pad_sequences\n",
        "\n",
        "#padding with value 0 at end of sequence\n",
        "input_ids = pad_sequences(input_ids, maxlen=max_length, dtype=\"long\", \n",
        "                          value=0, truncating=\"post\", padding=\"post\")\n"
      ],
      "outputs": [],
      "metadata": {
        "id": "iC-QzxDzvYlJ"
      }
    },
    {
      "cell_type": "code",
      "execution_count": null,
      "source": [
        "#creating attention masks\n",
        "\n",
        "#initialising attention_masks\n",
        "att_masks = []\n",
        "for phrase in input_ids:\n",
        "    #for non-zero token IDs, set mask to 1\n",
        "    masks = [int(token_id > 0) for token_id in phrase]    \n",
        "    # appending to att_masks\n",
        "    att_masks.append(masks)\n"
      ],
      "outputs": [],
      "metadata": {
        "id": "FiaSXOVRwtNi"
      }
    },
    {
      "cell_type": "code",
      "execution_count": null,
      "source": [
        "#splitting data train and validation\n",
        "#importing train_test_split \n",
        "from sklearn.model_selection import train_test_split\n",
        "#80% train, 20% validation\n",
        "train_inputs, validation_inputs, train_labels, validation_labels = train_test_split(input_ids, labels, \n",
        "                                                            random_state=1, test_size=0.2)\n",
        "#same split for masks\n",
        "train_masks, validation_masks, _, _ = train_test_split(att_masks, labels,\n",
        "                                             random_state=1, test_size=0.2)"
      ],
      "outputs": [],
      "metadata": {
        "id": "47j6c3uxxHtl"
      }
    },
    {
      "cell_type": "code",
      "execution_count": null,
      "source": [
        "#converting into torch tensors (type = long) \n",
        "train_inputs = torch.tensor(train_inputs,  dtype=torch.long)\n",
        "validation_inputs = torch.tensor(validation_inputs,  dtype=torch.long)\n",
        "train_labels = torch.tensor(train_labels,  dtype=torch.long)\n",
        "validation_labels = torch.tensor(validation_labels,  dtype=torch.long)\n",
        "train_masks = torch.tensor(train_masks,  dtype=torch.long)\n",
        "validation_masks = torch.tensor(validation_masks,  dtype=torch.long)"
      ],
      "outputs": [],
      "metadata": {
        "id": "LnTUd4Yvx3T3"
      }
    },
    {
      "cell_type": "code",
      "execution_count": null,
      "source": [
        "from torch.utils.data import TensorDataset, DataLoader, RandomSampler, SequentialSampler\n",
        "#setting batch size to 64\n",
        "batch_size = 64\n",
        "#creating dataloader for training data\n",
        "train_data = TensorDataset(train_inputs, train_masks, train_labels)\n",
        "train_sampler = RandomSampler(train_data)\n",
        "train_dataloader = DataLoader(train_data, sampler=train_sampler, batch_size=batch_size)\n",
        "#creating dataloader for validation data\n",
        "validation_data = TensorDataset(validation_inputs, validation_masks, validation_labels)\n",
        "validation_sampler = SequentialSampler(validation_data)\n",
        "validation_dataloader = DataLoader(validation_data, sampler=validation_sampler, batch_size=batch_size)"
      ],
      "outputs": [],
      "metadata": {
        "id": "ksqPzgWCyO0P"
      }
    },
    {
      "cell_type": "code",
      "execution_count": null,
      "source": [
        "from transformers import BertForSequenceClassification, AdamW, BertConfig\n",
        "\n",
        "#pretrained BERT model for sequences classification\n",
        "#num_labels is 5 since we have 5 output classes \n",
        "model = BertForSequenceClassification.from_pretrained(\n",
        "    \"bert-base-uncased\", \n",
        "    num_labels = 5, \n",
        "    output_attentions = True, \n",
        "    output_hidden_states = True,\n",
        ")\n",
        "\n",
        "#to run on GPU\n",
        "model.cuda()"
      ],
      "outputs": [],
      "metadata": {
        "id": "ZMu6ooZa4LNn"
      }
    },
    {
      "cell_type": "code",
      "execution_count": null,
      "source": [
        "#using AdamW optimiser to fine-tune the model\n",
        "optimizer = AdamW(model.parameters(),\n",
        "                  lr = 2e-5,\n",
        "                  eps = 1e-8\n",
        "                )\n",
        "from transformers import get_linear_schedule_with_warmup\n",
        "#number of training epochs\n",
        "epochs = 4\n",
        "#total steps \n",
        "total_steps = len(train_dataloader) * epochs\n",
        "#creating learning rate schedule\n",
        "scheduler = get_linear_schedule_with_warmup(optimizer, \n",
        "                                            num_warmup_steps = 0,\n",
        "                                            num_training_steps = total_steps)"
      ],
      "outputs": [],
      "metadata": {
        "id": "Jh1WtzBk9WQS"
      }
    },
    {
      "cell_type": "code",
      "execution_count": null,
      "source": [
        "import numpy as np\n",
        "\n",
        "#calculating accuracy by averaging the correctly classified obs over the number of labels\n",
        "def accuracy_score(predictions, labels):\n",
        "    pred = np.argmax(predictions, axis=1).flatten()\n",
        "    labs = labels.flatten()\n",
        "    return np.sum(predictions == labs) / len(labs)"
      ],
      "outputs": [],
      "metadata": {
        "id": "aUSK8T-z-7_q"
      }
    },
    {
      "cell_type": "code",
      "execution_count": null,
      "source": [
        "#Training\n",
        "\n",
        "import random\n",
        "#setting sed to 1\n",
        "seed_val = 1\n",
        "random.seed(seed_val)\n",
        "np.random.seed(seed_val)\n",
        "torch.manual_seed(seed_val)\n",
        "#torch.cuda.manual_seed_all(seed_val)\n",
        "#initialising average loss at each epoch.\n",
        "loss_values = []\n",
        "for i in range(0, epochs):\n",
        "    print(\"\")\n",
        "    print('======== Epoch {:} / {:} ========'.format(i + 1, epochs))\n",
        "\n",
        "    #resetting total loss\n",
        "    total_loss = 0\n",
        "    model.train()\n",
        "    for step, batch in enumerate(train_dataloader):\n",
        "        #updating training loss\n",
        "        if step % 10 == 0 and not step == 0: \n",
        "            #reporting progress\n",
        "            print(f\"batch number {step} of {len(train_dataloader)}\")\n",
        "        \n",
        "        batch_input_ids = batch[0].to(device)\n",
        "        batch_input_mask = batch[1].to(device)\n",
        "        batch_labels = batch[2].to(device)\n",
        "        model.zero_grad()        \n",
        "        #Forward pass to return the loss\n",
        "        outputs = model(batch_input_ids, \n",
        "                    token_type_ids=None, \n",
        "                    attention_mask=batch_input_mask, \n",
        "                    labels=batch_labels)\n",
        "        \n",
        "        #retrieving loss value\n",
        "        loss = outputs[0]\n",
        "        #calculating average loss over all batches\n",
        "        total_loss += loss.item()\n",
        "\n",
        "\n",
        "\n",
        "        #backward pass to calculate gradients\n",
        "        loss.backward()\n",
        "        #clipping gradients to 1 to avoid exploding gradients\n",
        "        torch.nn.utils.clip_grad_norm_(model.parameters(), 1.0)\n",
        "        #updating parameters\n",
        "        optimizer.step()\n",
        "        #updating learning rate\n",
        "        scheduler.step()\n",
        "    #calculating average loss over all the training data\n",
        "    avg_train_loss = total_loss / len(train_dataloader)            \n",
        "    \n",
        "    #appending avg_train_loss to loss_values\n",
        "    loss_values.append(avg_train_loss)\n",
        "    print(\"\")\n",
        "    print(\"  Average training loss: {0:.2f}\".format(avg_train_loss))\n",
        "        "
      ],
      "outputs": [],
      "metadata": {
        "id": "EsGHbX-s_NAp"
      }
    },
    {
      "cell_type": "code",
      "execution_count": null,
      "source": [
        "    #Validation\n",
        "\n",
        "    model.eval()\n",
        "    #Initialising variables \n",
        "    eval_loss, eval_accuracy = 0, 0\n",
        "    nb_eval_steps, nb_eval_examples = 0, 0\n",
        "    val_accuracy = []\n",
        "  \n",
        "\n",
        "    for batch in validation_dataloader:\n",
        "        \n",
        "        #adding to GPU\n",
        "        batch = tuple(t.to(device) for t in batch)\n",
        "        #batch = tuple(batch)\n",
        "        \n",
        "        # retrieving inputs from dataloader\n",
        "        batch_input_ids, batch_input_mask, batch_labels = batch\n",
        "        with torch.no_grad():        \n",
        "            #Forward pass to calculate logit predicitions (output values before\n",
        "            #applying activation function)\n",
        "            outputs = model(batch_input_ids, \n",
        "                            token_type_ids=None, \n",
        "                            attention_mask=batch_input_mask)\n",
        "        # retrieveing logits\n",
        "        logits = outputs[0]\n",
        "        # move logits and labels to CPU\n",
        "        logits = logits.detach().cpu().numpy()\n",
        "        label_ids = batch_labels.to('cpu').numpy()\n",
        "        \n",
        "        # calculating accuracy per batch\n",
        "        accuracy_batch = accuracy_score(logits, label_ids)\n",
        "        \n",
        "        # appending total accuracy.\n",
        "        val_accuracy.append(accuracy_batch)\n",
        "        # number of batches\n",
        "        nb_eval_steps += 1\n",
        "    # final accuracy\n",
        "    print(\"  Accuracy: {0:.2f}\".format(sum(val_accuracy)/nb_eval_steps))"
      ],
      "outputs": [
        {
          "output_type": "stream",
          "name": "stderr",
          "text": [
            "/usr/local/lib/python3.7/dist-packages/ipykernel_launcher.py:7: DeprecationWarning: elementwise comparison failed; this will raise an error in the future.\n",
            "  import sys\n"
          ]
        },
        {
          "output_type": "stream",
          "name": "stdout",
          "text": [
            "  Accuracy: 0.00\n"
          ]
        }
      ],
      "metadata": {
        "id": "NYJTm6q8HN2O",
        "colab": {
          "base_uri": "https://localhost:8080/"
        },
        "outputId": "c026c9c9-2d72-4025-941c-aab9f67ff570"
      }
    },
    {
      "cell_type": "code",
      "execution_count": null,
      "source": [
        "# performance on test set\n",
        "df_test = df[n_train+1:n]\n",
        "\n",
        "# creating phrases and label lists\n",
        "phrases = df_test.Phrase.values\n",
        "labels = df_test.Sentiment.values\n",
        "# tokenizing to map to input_ids\n",
        "input_ids = []\n",
        "for phrase in phrases:\n",
        "    encoded_phrase = tokenizer.encode(\n",
        "                        phrase,                      \n",
        "                        add_special_tokens = True,\n",
        "                   )\n",
        "    \n",
        "    input_ids.append(encoded_phrase)\n",
        "# padding tokens\n",
        "input_ids = pad_sequences(input_ids, maxlen=max_length, \n",
        "                          dtype=\"long\", truncating=\"post\", padding=\"post\")\n",
        "# creating attention masks\n",
        "att_masks = []\n",
        "# create a mask of 1s for each token followed by 0s for padding\n",
        "for seq in input_ids:\n",
        "  seq_mask = [float(i>0) for i in seq]\n",
        "  att_masks.append(seq_mask) \n",
        "# converting everything to tensors\n",
        "prediction_inputs = torch.tensor(input_ids)\n",
        "prediction_masks = torch.tensor(att_masks)\n",
        "prediction_labels = torch.tensor(labels)\n",
        "# setting batch size to 64\n",
        "batch_size = 64  \n",
        "# creating the dataloader\n",
        "prediction_data = TensorDataset(prediction_inputs, prediction_masks, prediction_labels)\n",
        "prediction_sampler = SequentialSampler(prediction_data)\n",
        "prediction_dataloader = DataLoader(prediction_data, sampler=prediction_sampler, batch_size=batch_size)"
      ],
      "outputs": [],
      "metadata": {
        "id": "kOGjup6kg8sw"
      }
    },
    {
      "cell_type": "code",
      "execution_count": null,
      "source": [
        "# Prediction on test set\n",
        "model.eval()\n",
        "# initialising variables\n",
        "predictions , true_labels = [], []\n",
        "# prediciting\n",
        "for batch in prediction_dataloader:\n",
        "  # adding to GPU\n",
        "  batch = tuple(t.to(device) for t in batch)\n",
        "  \n",
        "  # retrieve inputs from dataloader\n",
        "  batch_input_ids, batch_input_mask, batch_labels = batch\n",
        "  with torch.no_grad():\n",
        "      # Forward pass to calculate logit predicitions\n",
        "      outputs = model(batch_input_ids, token_type_ids=None, \n",
        "                      attention_mask=batch_input_mask)\n",
        "  logits = outputs[0]\n",
        "  # moving logits to CPU\n",
        "  logits = logits.detach().cpu().numpy()\n",
        "  label_ids = batch_labels.to('cpu').numpy()\n",
        "  \n",
        "  # appending logits and b_labels to predcictions and true labels\n",
        "  predictions.append(logits)\n",
        "  true_labels.append(label_ids)"
      ],
      "outputs": [],
      "metadata": {
        "id": "XPU8tiypq3dY"
      }
    },
    {
      "cell_type": "code",
      "execution_count": null,
      "source": [
        "import torch.nn.functional as F\n",
        "# Concatenate logits from each batch\n",
        "cat_logits = np.concatenate(predictions)\n",
        "\n",
        "# Apply softmax to calculate probabilities\n",
        "probs = F.softmax(torch.tensor(cat_logits), dim=1).numpy()\n",
        "\n",
        "max_list = probs.max(axis=1)\n",
        "max_index = probs.argmax(axis=1)\n",
        "print(max_list)\n",
        "print(max_index)"
      ],
      "outputs": [
        {
          "output_type": "stream",
          "name": "stdout",
          "text": [
            "[0.7483043  0.55878067 0.83428884 ... 0.7642161  0.6698374  0.7084904 ]\n",
            "[3 3 3 ... 2 3 2]\n"
          ]
        }
      ],
      "metadata": {
        "id": "WOYTRZKv0372",
        "colab": {
          "base_uri": "https://localhost:8080/"
        },
        "outputId": "ad4ae2c3-b6e4-467f-cb06-f70764cd4086"
      }
    },
    {
      "cell_type": "code",
      "execution_count": null,
      "source": [
        "true_labels = df_test.Sentiment\n",
        "#print(true_labels)\n",
        "predicted_labels = max_index\n",
        "\n",
        "correct_labels = sum(true_labels == predicted_labels)/len(predicted_labels)*100\n",
        "print(correct_labels)"
      ],
      "outputs": [
        {
          "output_type": "stream",
          "name": "stdout",
          "text": [
            "65.76527506327898\n"
          ]
        }
      ],
      "metadata": {
        "id": "6ML_MUga7Wxp",
        "colab": {
          "base_uri": "https://localhost:8080/"
        },
        "outputId": "3b3dcc9e-1568-4d5d-c6b0-a6c36d9d8cb4"
      }
    },
    {
      "cell_type": "code",
      "execution_count": null,
      "source": [
        "from sklearn.metrics import confusion_matrix\n",
        "import matplotlib.pyplot as plt\n",
        "from sklearn.metrics import plot_confusion_matrix\n",
        "\n",
        "cm_bert = confusion_matrix(true_labels, predicted_labels, normalize='true')\n",
        "cm1_bert = confusion_matrix(true_labels, predicted_labels)\n",
        "\n",
        "import seaborn as sn\n",
        "import pandas as pd\n",
        "import matplotlib.pyplot as plt\n",
        "\n",
        "df_cm = pd.DataFrame(cm_bert, range(5), range(5))\n",
        "sn.set(font_scale=1.4) # for label size\n",
        "sn.heatmap(df_cm, annot=True, annot_kws={\"size\": 16}) # font size\n",
        "plt.show()"
      ],
      "outputs": [
        {
          "output_type": "display_data",
          "data": {
            "image/png": "[encoded data removed]",
            "text/plain": [
              "<Figure size 432x288 with 2 Axes>"
            ]
          },
          "metadata": {
            "tags": []
          }
        }
      ],
      "metadata": {
        "id": "r0uNOHAqRPEL",
        "colab": {
          "base_uri": "https://localhost:8080/",
          "height": 273
        },
        "outputId": "9e154a23-ce07-4597-921a-d8771673731e"
      }
    },
    {
      "cell_type": "code",
      "execution_count": null,
      "source": [
        "# accuracy, recall and precision\n",
        "\n",
        "accuracy=sum(np.diag(cm1_bert))/np.sum(cm1_bert)\n",
        "print(\"Accuracy is\", accuracy*100, \"%\")\n",
        "\n",
        "recall = np.zeros(5)\n",
        "precision = np.zeros(5)\n",
        "for i in range(5):\n",
        "  recall[i] = round((cm1_bert[i, i] / np.sum(cm1_bert[:, i])) * 100, 2)\n",
        "  precision[i] = round((cm1_bert[i, i] / np.sum(cm1_bert[i, :])) * 100, 2)\n",
        "\n",
        "recall = pd.DataFrame(recall)\n",
        "precision = pd.DataFrame(precision)\n",
        "eval = pd.concat([recall, precision], axis = 1)\n",
        "eval.columns = ['Recall (%)', 'Precision (%)']\n",
        "print(eval)"
      ],
      "outputs": [
        {
          "output_type": "stream",
          "name": "stdout",
          "text": [
            "Accuracy is 65.76527506327898 %\n",
            "   Recall (%)  Precision (%)\n",
            "0       48.23          41.44\n",
            "1       56.16          58.82\n",
            "2       75.22          76.81\n",
            "3       59.01          54.41\n",
            "4       52.81          55.97\n"
          ]
        }
      ],
      "metadata": {
        "colab": {
          "base_uri": "https://localhost:8080/"
        },
        "id": "F69Ssfz68ad3",
        "outputId": "b385b26f-c258-4b05-e03d-a729404419e5"
      }
    },
    {
      "cell_type": "code",
      "execution_count": null,
      "source": [
        "# testing model on unseen input\n",
        "\n",
        "new_input = \"insert unseen input sentence here\"\n",
        "\n",
        "# tokenizing to map to input_ids\n",
        "input_id = tokenizer.encode(\n",
        "                        new_input,                      \n",
        "                        add_special_tokens = True)\n",
        "input_id = np.array(input_id)\n",
        "input_id = np.reshape(input_id, (1, -1))\n",
        "# padding tokens\n",
        "input_id = pad_sequences(input_id, maxlen=max_length, \n",
        "                          dtype=\"long\", truncating=\"post\", padding=\"post\")\n",
        "# creating attention masks\n",
        "att_masks = []\n",
        "# create a mask of 1s for each token followed by 0s for padding\n",
        "att_masks = [float(i>0) for i in input_id[0, :]] \n",
        "#converting everything to tensors\n",
        "prediction_input = torch.tensor(input_id)\n",
        "prediction_masks = torch.tensor(att_masks)\n",
        "prediction_masks = torch.reshape(prediction_masks, (1, 35))\n",
        "\n",
        "# predicting label for unseen input\n",
        "prediction_input = prediction_input.to(device)\n",
        "prediction_masks = prediction_masks.to(device)\n",
        "model = model.to(device)\n",
        "outputs = model(prediction_input, token_type_ids=None, \n",
        "                      attention_mask=prediction_masks)\n",
        "predicition_logits = outputs[0]\n",
        "\n",
        "\n",
        "# softmax through logit\n",
        "import torch.nn.functional as F\n",
        "\n",
        "# apply softmax to calculate probabilities\n",
        "probs = F.softmax(torch.tensor(predicition_logits), dim=1)\n",
        "probs = probs.cpu()\n",
        "probs = probs.numpy()\n",
        "\n",
        "max_list = probs.max(axis=1)\n",
        "max_index = probs.argmax(axis=1)\n",
        "\n",
        "print(f\"Sentiment prediction of unseen input is {max_index}\")"
      ],
      "outputs": [],
      "metadata": {
        "id": "hk9w9jWcXw30"
      }
    }
  ]
}